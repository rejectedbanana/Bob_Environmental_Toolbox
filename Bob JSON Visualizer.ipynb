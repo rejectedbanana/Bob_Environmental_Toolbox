{
 "cells": [
  {
   "cell_type": "markdown",
   "id": "0b29c5ff",
   "metadata": {},
   "source": [
    "# Bob Environmental Visualization Workbook\n",
    "A Jupyter Notebook that will let you import and visualize data that has been exported from the Bob Environmental App"
   ]
  },
  {
   "cell_type": "code",
   "execution_count": null,
   "id": "86de81a5",
   "metadata": {},
   "outputs": [],
   "source": [
    "# Import necessary libraries\n",
    "import numpy as np\n",
    "import matplotlib.pyplot as plt\n",
    "from cycler import cycler\n",
    "import pandas as pd\n",
    "from datetime import datetime\n",
    "import matplotlib.dates as mdates\n",
    "\n",
    "# Import the AWU data loader - timestamps are automatically converted to datetime\n",
    "import sys\n",
    "import os\n",
    "sys.path.append(os.getcwd())\n",
    "from AWU_Importer import import_awu_data, transform_to_earth_coordinates, analyze_wave_motion\n",
    "\n",
    "# Set up matplotlib for custom plots\n",
    "plt.style.use('default')\n",
    "plt.rcParams['figure.figsize'] = (12, 8)\n",
    "plt.rcParams['font.size'] = 10\n",
    "\n",
    "kcolors = ['#007AFF','#C637A0', '#FF717C', '#1E0253']\n",
    "plt.rcParams['axes.prop_cycle'] = cycler(color=kcolors)"
   ]
  }
 ],
 "metadata": {
  "kernelspec": {
   "display_name": "awu",
   "language": "python",
   "name": "python3"
  },
  "language_info": {
   "codemirror_mode": {
    "name": "ipython",
    "version": 3
   },
   "file_extension": ".py",
   "mimetype": "text/x-python",
   "name": "python",
   "nbconvert_exporter": "python",
   "pygments_lexer": "ipython3",
   "version": "3.12.2"
  }
 },
 "nbformat": 4,
 "nbformat_minor": 5
}
